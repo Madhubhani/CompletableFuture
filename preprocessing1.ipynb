{
  "nbformat": 4,
  "nbformat_minor": 0,
  "metadata": {
    "colab": {
      "name": "preprocessing1.ipynb",
      "provenance": [],
      "collapsed_sections": [],
      "include_colab_link": true
    },
    "kernelspec": {
      "name": "python3",
      "display_name": "Python 3"
    }
  },
  "cells": [
    {
      "cell_type": "markdown",
      "metadata": {
        "id": "view-in-github",
        "colab_type": "text"
      },
      "source": [
        "<a href=\"https://colab.research.google.com/github/Madhubhani/CompletableFuture/blob/master/preprocessing1.ipynb\" target=\"_parent\"><img src=\"https://colab.research.google.com/assets/colab-badge.svg\" alt=\"Open In Colab\"/></a>"
      ]
    },
    {
      "cell_type": "markdown",
      "metadata": {
        "id": "NRKTJOKpZUX3"
      },
      "source": [
        "## Mounting Google Drive"
      ]
    },
    {
      "cell_type": "code",
      "metadata": {
        "id": "HghcwkxRTcc0",
        "outputId": "5effc9ad-a8af-46f4-eb94-79035820736d",
        "colab": {
          "base_uri": "https://localhost:8080/"
        }
      },
      "source": [
        "from google.colab import drive\n",
        "drive.mount('/content/drive')"
      ],
      "execution_count": 1,
      "outputs": [
        {
          "output_type": "stream",
          "text": [
            "Mounted at /content/drive\n"
          ],
          "name": "stdout"
        }
      ]
    },
    {
      "cell_type": "code",
      "metadata": {
        "id": "9FeLfZ11aTDz"
      },
      "source": [
        "DATA_PATH = '/content/drive/My Drive/MLDM Project'"
      ],
      "execution_count": 2,
      "outputs": []
    },
    {
      "cell_type": "markdown",
      "metadata": {
        "id": "OgLCReAlZizc"
      },
      "source": [
        "## Importing Modules"
      ]
    },
    {
      "cell_type": "code",
      "metadata": {
        "id": "VGfJNX9sTTxm",
        "outputId": "165f25bb-7d23-4de0-dd8f-06b7cf8a9a2a",
        "colab": {
          "base_uri": "https://localhost:8080/"
        }
      },
      "source": [
        "import pandas as pd\n",
        "import re\n",
        "import os\n",
        "import datetime\n",
        "import pickle\n",
        "import json\n",
        "from IPython.display import clear_output\n",
        "\n",
        "from matplotlib import pyplot as plt\n",
        "plt.style.use('seaborn')\n",
        "\n",
        "import nltk\n",
        "nltk.download('stopwords')\n",
        "from nltk.corpus import stopwords\n",
        "\n",
        "import spacy\n",
        "nlp = spacy.load('en')"
      ],
      "execution_count": 3,
      "outputs": [
        {
          "output_type": "stream",
          "text": [
            "[nltk_data] Downloading package stopwords to /root/nltk_data...\n",
            "[nltk_data]   Unzipping corpora/stopwords.zip.\n"
          ],
          "name": "stdout"
        }
      ]
    },
    {
      "cell_type": "markdown",
      "metadata": {
        "id": "D7okCLiiZpUB"
      },
      "source": [
        "## Reading Dataset"
      ]
    },
    {
      "cell_type": "code",
      "metadata": {
        "id": "uqHfLGqGThqB",
        "outputId": "39e11140-8cdd-42c4-b4ba-dd723f6223cb",
        "colab": {
          "base_uri": "https://localhost:8080/",
          "height": 206
        }
      },
      "source": [
        "train = pd.read_json(f'{DATA_PATH}/train.json')\n",
        "train.head()"
      ],
      "execution_count": 4,
      "outputs": [
        {
          "output_type": "execute_result",
          "data": {
            "text/html": [
              "<div>\n",
              "<style scoped>\n",
              "    .dataframe tbody tr th:only-of-type {\n",
              "        vertical-align: middle;\n",
              "    }\n",
              "\n",
              "    .dataframe tbody tr th {\n",
              "        vertical-align: top;\n",
              "    }\n",
              "\n",
              "    .dataframe thead th {\n",
              "        text-align: right;\n",
              "    }\n",
              "</style>\n",
              "<table border=\"1\" class=\"dataframe\">\n",
              "  <thead>\n",
              "    <tr style=\"text-align: right;\">\n",
              "      <th></th>\n",
              "      <th>Id</th>\n",
              "      <th>description</th>\n",
              "      <th>gender</th>\n",
              "    </tr>\n",
              "  </thead>\n",
              "  <tbody>\n",
              "    <tr>\n",
              "      <th>0</th>\n",
              "      <td>0</td>\n",
              "      <td>She is also a Ronald D. Asmus Policy Entrepre...</td>\n",
              "      <td>F</td>\n",
              "    </tr>\n",
              "    <tr>\n",
              "      <th>1</th>\n",
              "      <td>1</td>\n",
              "      <td>He is a member of the AICPA and WICPA. Brent ...</td>\n",
              "      <td>M</td>\n",
              "    </tr>\n",
              "    <tr>\n",
              "      <th>2</th>\n",
              "      <td>2</td>\n",
              "      <td>Dr. Aster has held teaching and research posi...</td>\n",
              "      <td>M</td>\n",
              "    </tr>\n",
              "    <tr>\n",
              "      <th>4</th>\n",
              "      <td>3</td>\n",
              "      <td>He runs a boutique design studio attending cl...</td>\n",
              "      <td>M</td>\n",
              "    </tr>\n",
              "    <tr>\n",
              "      <th>5</th>\n",
              "      <td>4</td>\n",
              "      <td>He focuses on cloud security, identity and ac...</td>\n",
              "      <td>M</td>\n",
              "    </tr>\n",
              "  </tbody>\n",
              "</table>\n",
              "</div>"
            ],
            "text/plain": [
              "   Id                                        description gender\n",
              "0   0   She is also a Ronald D. Asmus Policy Entrepre...      F\n",
              "1   1   He is a member of the AICPA and WICPA. Brent ...      M\n",
              "2   2   Dr. Aster has held teaching and research posi...      M\n",
              "4   3   He runs a boutique design studio attending cl...      M\n",
              "5   4   He focuses on cloud security, identity and ac...      M"
            ]
          },
          "metadata": {
            "tags": []
          },
          "execution_count": 4
        }
      ]
    },
    {
      "cell_type": "markdown",
      "metadata": {
        "id": "p5ut1hYrc3Xh"
      },
      "source": [
        "## Analysing Dataset"
      ]
    },
    {
      "cell_type": "markdown",
      "metadata": {
        "id": "TWzy0BwDn0L7"
      },
      "source": [
        "### Bar plot for number of samples for each gender"
      ]
    },
    {
      "cell_type": "code",
      "metadata": {
        "id": "EIX5PjLZlY8x",
        "outputId": "8f72900c-57c2-4be5-dca1-4b796a5aa2b3",
        "colab": {
          "base_uri": "https://localhost:8080/",
          "height": 363
        }
      },
      "source": [
        "train['gender'].value_counts().plot.bar()"
      ],
      "execution_count": 5,
      "outputs": [
        {
          "output_type": "execute_result",
          "data": {
            "text/plain": [
              "<matplotlib.axes._subplots.AxesSubplot at 0x7f80728675c0>"
            ]
          },
          "metadata": {
            "tags": []
          },
          "execution_count": 5
        },
        {
          "output_type": "display_data",
          "data": {
            "image/png": "[encoded data removed]",
            "text/plain": [
              "<Figure size 576x396 with 1 Axes>"
            ]
          },
          "metadata": {
            "tags": []
          }
        }
      ]
    },
    {
      "cell_type": "markdown",
      "metadata": {
        "id": "ZSUc7TJDn-JN"
      },
      "source": [
        "### Histogram for length of the text"
      ]
    },
    {
      "cell_type": "code",
      "metadata": {
        "id": "yRS25e14n75I",
        "outputId": "831ae7c0-5750-4682-8fcb-45a670ea0028",
        "colab": {
          "base_uri": "https://localhost:8080/",
          "height": 365
        }
      },
      "source": [
        "train['description'].apply(len).plot.hist(bins=8, width=90)"
      ],
      "execution_count": 6,
      "outputs": [
        {
          "output_type": "execute_result",
          "data": {
            "text/plain": [
              "<matplotlib.axes._subplots.AxesSubplot at 0x7f80703e4d68>"
            ]
          },
          "metadata": {
            "tags": []
          },
          "execution_count": 6
        },
        {
          "output_type": "display_data",
          "data": {
            "image/png": "[encoded data removed]",
            "text/plain": [
              "<Figure size 576x396 with 1 Axes>"
            ]
          },
          "metadata": {
            "tags": []
          }
        }
      ]
    },
    {
      "cell_type": "markdown",
      "metadata": {
        "id": "xkfnU_E0Zui0"
      },
      "source": [
        "## Pre-processing"
      ]
    },
    {
      "cell_type": "code",
      "metadata": {
        "id": "n2RS0-3X7sQp"
      },
      "source": [
        "abbr_dict={\n",
        "    \"what's\":\"what is\",\n",
        "    \"what're\":\"what are\",\n",
        "    \"who's\":\"who is\",\n",
        "    \"who're\":\"who are\",\n",
        "    \"where's\":\"where is\",\n",
        "    \"where're\":\"where are\",\n",
        "    \"when's\":\"when is\",\n",
        "    \"when're\":\"when are\",\n",
        "    \"how's\":\"how is\",\n",
        "    \"how're\":\"how are\",\n",
        "\n",
        "    \"i'm\":\"i am\",\n",
        "    \"we're\":\"we are\",\n",
        "    \"you're\":\"you are\",\n",
        "    \"they're\":\"they are\",\n",
        "    \"it's\":\"it is\",\n",
        "    \"he's\":\"he is\",\n",
        "    \"she's\":\"she is\",\n",
        "    \"that's\":\"that is\",\n",
        "    \"there's\":\"there is\",\n",
        "    \"there're\":\"there are\",\n",
        "\n",
        "    \"i've\":\"i have\",\n",
        "    \"we've\":\"we have\",\n",
        "    \"you've\":\"you have\",\n",
        "    \"they've\":\"they have\",\n",
        "    \"who've\":\"who have\",\n",
        "    \"would've\":\"would have\",\n",
        "    \"not've\":\"not have\",\n",
        "\n",
        "    \"i'll\":\"i will\",\n",
        "    \"we'll\":\"we will\",\n",
        "    \"you'll\":\"you will\",\n",
        "    \"he'll\":\"he will\",\n",
        "    \"she'll\":\"she will\",\n",
        "    \"it'll\":\"it will\",\n",
        "    \"they'll\":\"they will\",\n",
        "\n",
        "    \"isn't\":\"is not\",\n",
        "    \"wasn't\":\"was not\",\n",
        "    \"aren't\":\"are not\",\n",
        "    \"weren't\":\"were not\",\n",
        "    \"can't\":\"can not\",\n",
        "    \"couldn't\":\"could not\",\n",
        "    \"don't\":\"do not\",\n",
        "    \"didn't\":\"did not\",\n",
        "    \"shouldn't\":\"should not\",\n",
        "    \"wouldn't\":\"would not\",\n",
        "    \"doesn't\":\"does not\",\n",
        "    \"haven't\":\"have not\",\n",
        "    \"hasn't\":\"has not\",\n",
        "    \"hadn't\":\"had not\",\n",
        "    \"won't\":\"will not\",\n",
        "    '\\s+':' ', # replace multi space with one single space\n",
        "}"
      ],
      "execution_count": 7,
      "outputs": []
    },
    {
      "cell_type": "code",
      "metadata": {
        "id": "ZNnE09UJUDth"
      },
      "source": [
        "def preprocess(text, lemmatize=False):\n",
        "\n",
        "    # converting to lower characters\n",
        "    text = text.lower()\n",
        "\n",
        "    # removing abbreviations\n",
        "    pattern = '|'.join(sorted(re.escape(k) for k in abbr_dict))\n",
        "    text = re.sub(pattern, lambda m: abbr_dict.get(m.group(0).upper()), text, flags=re.IGNORECASE)\n",
        "\n",
        "    # removing URLs starting with http or www., ending with .com or .fr and emails\n",
        "    text = re.sub(r'(http\\S+|www.\\S+|\\S+\\.com|\\S+\\.fr|\\S+@\\S+\\.\\S+)', '', text)\n",
        "\n",
        "    # removing all special characters\n",
        "    text = re.sub('[^a-z ]', '', text)\n",
        "\n",
        "    # converting string to list of words\n",
        "    text = text.split()\n",
        "\n",
        "    # removing stopwords\n",
        "    stopwords_list = stopwords.words('english') + stopwords.words('french')\n",
        "    text = [word for word in text if word not in stopwords_list]\n",
        "    \n",
        "    if lemmatize:\n",
        "        # using spacy lemmatizer\n",
        "        text = nlp(' '.join(text))\n",
        "        text = [word.lemma_ for word in text]\n",
        "    \n",
        "    text = ' '.join(text)\n",
        "    return text"
      ],
      "execution_count": 8,
      "outputs": []
    },
    {
      "cell_type": "code",
      "metadata": {
        "id": "mYzJn89KVM45",
        "outputId": "f8282f89-cd07-4dd5-ca1c-59aa9a9aa758",
        "colab": {
          "base_uri": "https://localhost:8080/"
        }
      },
      "source": [
        "clean_text = []\n",
        "num_text = len(train['description'])\n",
        "for ind, text in enumerate(train['description']):\n",
        "    # clear cell output\n",
        "    clear_output(wait=True)\n",
        "    print(f'Pre-processing {ind}/{num_text} ...')\n",
        "    clean_text.append(preprocess(text, lemmatize=True))\n",
        "clear_output()\n",
        "print('Done')"
      ],
      "execution_count": 10,
      "outputs": [
        {
          "output_type": "stream",
          "text": [
            "Done\n"
          ],
          "name": "stdout"
        }
      ]
    },
    {
      "cell_type": "markdown",
      "metadata": {
        "id": "aZANQI81yo9K"
      },
      "source": [
        "## Saving Pre-processed data in Drive"
      ]
    },
    {
      "cell_type": "code",
      "metadata": {
        "id": "rb9nCiQXtXaq",
        "outputId": "2b11d6aa-1e12-4ac7-abf4-07411bba6694",
        "colab": {
          "base_uri": "https://localhost:8080/"
        }
      },
      "source": [
        "# current date and time\n",
        "now = datetime.datetime.today().strftime(\"%d%m%Y%H%M%S\")\n",
        "# path for saving the file\n",
        "clean_text_path = f'{DATA_PATH}/preprocess output'\n",
        "filename = f'clean_lemmatized_text_{now}.pickle'\n",
        "# create the directory if it doesn't exist\n",
        "if not os.path.exists(clean_text_path):\n",
        "    os.mkdir(clean_text_path)\n",
        "# save clean_text list in the form of a pickle file\n",
        "with open(f'{clean_text_path}/{filename}', 'wb') as fp:\n",
        "    pickle.dump(clean_text, fp)\n",
        "\n",
        "print(f'File {clean_text_path}/{filename} saved.')"
      ],
      "execution_count": 12,
      "outputs": [
        {
          "output_type": "stream",
          "text": [
            "File /content/drive/My Drive/MLDM Project/preprocess output/clean_lemmatized_text_01112020130250.pickle saved.\n"
          ],
          "name": "stdout"
        }
      ]
    }
  ]
}